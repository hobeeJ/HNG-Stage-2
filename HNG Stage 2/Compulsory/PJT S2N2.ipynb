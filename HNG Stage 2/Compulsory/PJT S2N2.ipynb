{
 "metadata": {
  "language_info": {
   "codemirror_mode": {
    "name": "ipython",
    "version": 3
   },
   "file_extension": ".py",
   "mimetype": "text/x-python",
   "name": "python",
   "nbconvert_exporter": "python",
   "pygments_lexer": "ipython3",
   "version": "3.9.1"
  },
  "orig_nbformat": 4,
  "kernelspec": {
   "name": "python3",
   "display_name": "Python 3.9.1 64-bit"
  },
  "interpreter": {
   "hash": "e87bb2819007eca26757ebc74bfe9f8af40c8d459f0db6401cbe8f476ee0900b"
  }
 },
 "nbformat": 4,
 "nbformat_minor": 2,
 "cells": [
  {
   "cell_type": "markdown",
   "source": [
    "# **HNG Internship**\r\n",
    "## **Stage 2**\r\n",
    "Write a simple program that prints your name using your language of choice.\r\n",
    "\r\n",
    "**Language** - *Python*"
   ],
   "metadata": {}
  },
  {
   "cell_type": "code",
   "execution_count": 1,
   "source": [
    "print(\"Obonganyanga Joshua\")"
   ],
   "outputs": [
    {
     "output_type": "stream",
     "name": "stdout",
     "text": [
      "Obonganyanga Joshua\n"
     ]
    }
   ],
   "metadata": {}
  }
 ]
}